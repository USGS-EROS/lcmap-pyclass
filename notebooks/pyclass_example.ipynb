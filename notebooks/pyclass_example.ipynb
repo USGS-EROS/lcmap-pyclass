{
 "cells": [
  {
   "cell_type": "code",
   "execution_count": 1,
   "metadata": {
    "collapsed": true
   },
   "outputs": [],
   "source": [
    "import os\n",
    "import sys\n",
    "module_path = os.path.abspath(os.path.join('..'))\n",
    "if module_path not in sys.path:\n",
    "    sys.path.insert(0, module_path)"
   ]
  },
  {
   "cell_type": "code",
   "execution_count": 2,
   "metadata": {
    "collapsed": true
   },
   "outputs": [],
   "source": [
    "import numpy as np\n",
    "from pyclass import training, classifier"
   ]
  },
  {
   "cell_type": "code",
   "execution_count": 3,
   "metadata": {
    "collapsed": false
   },
   "outputs": [],
   "source": [
    "xfile = r'..\\test\\resources\\Xs_grid02.npy'\n",
    "yfile = r'..\\test\\resources\\Ys_grid02.npy'"
   ]
  },
  {
   "cell_type": "code",
   "execution_count": 4,
   "metadata": {
    "collapsed": false
   },
   "outputs": [],
   "source": [
    "xarr = np.load(xfile)\n",
    "yarr = np.load(yfile)"
   ]
  },
  {
   "cell_type": "code",
   "execution_count": 5,
   "metadata": {
    "collapsed": false
   },
   "outputs": [],
   "source": [
    "rmse = xarr[:, :7]\n",
    "coefs = xarr[:, 7:63]\n",
    "aspect = xarr[:, 63]\n",
    "dem = xarr[:, 64]\n",
    "posidex = xarr[:, 65]\n",
    "slope = xarr[:, 66]\n",
    "mpw = xarr[:, 67]\n",
    "water_prob = xarr[:, 68]\n",
    "snow_prob = xarr[:, 69]\n",
    "cloud_prob = xarr[:, 70]"
   ]
  },
  {
   "cell_type": "code",
   "execution_count": 6,
   "metadata": {
    "collapsed": false
   },
   "outputs": [],
   "source": [
    "independent = np.hstack((coefs,\n",
    "                             rmse,\n",
    "                             dem[:, np.newaxis],\n",
    "                             aspect[:, np.newaxis],\n",
    "                             slope[:, np.newaxis],\n",
    "                             posidex[:, np.newaxis],\n",
    "                             mpw[:, np.newaxis],\n",
    "                             cloud_prob[:, np.newaxis],\n",
    "                             snow_prob[:, np.newaxis],\n",
    "                             water_prob[:, np.newaxis]))"
   ]
  },
  {
   "cell_type": "code",
   "execution_count": 7,
   "metadata": {
    "collapsed": false
   },
   "outputs": [],
   "source": [
    "model = training.train_randomforest(independent, yarr)"
   ]
  },
  {
   "cell_type": "code",
   "execution_count": 8,
   "metadata": {
    "collapsed": false
   },
   "outputs": [
    {
     "name": "stdout",
     "output_type": "stream",
     "text": [
      "[  0.   1.   2.   5.   6.   7.   8.   9.  10.]\n",
      "[[ 0.1   0.    0.1   0.01  0.09  0.36  0.16  0.03  0.15]]\n",
      "6.0\n"
     ]
    }
   ],
   "source": [
    "classes, results = classifier.rf_predict(model, independent[0])\n",
    "print(classes)\n",
    "print(results)\n",
    "print(yarr[0])"
   ]
  },
  {
   "cell_type": "code",
   "execution_count": 9,
   "metadata": {
    "collapsed": false
   },
   "outputs": [
    {
     "data": {
      "text/plain": [
       "7.0"
      ]
     },
     "execution_count": 9,
     "metadata": {},
     "output_type": "execute_result"
    }
   ],
   "source": [
    "classes.take(np.argmax(results))"
   ]
  },
  {
   "cell_type": "code",
   "execution_count": 10,
   "metadata": {
    "collapsed": false
   },
   "outputs": [
    {
     "data": {
      "text/plain": [
       "0.99999999999999989"
      ]
     },
     "execution_count": 10,
     "metadata": {},
     "output_type": "execute_result"
    }
   ],
   "source": [
    "np.sum(results)"
   ]
  }
 ],
 "metadata": {
  "anaconda-cloud": {},
  "kernelspec": {
   "display_name": "Python [conda env:lcmap-pyclass]",
   "language": "python",
   "name": "conda-env-lcmap-pyclass-py"
  },
  "language_info": {
   "codemirror_mode": {
    "name": "ipython",
    "version": 3
   },
   "file_extension": ".py",
   "mimetype": "text/x-python",
   "name": "python",
   "nbconvert_exporter": "python",
   "pygments_lexer": "ipython3",
   "version": "3.4.5"
  }
 },
 "nbformat": 4,
 "nbformat_minor": 0
}
